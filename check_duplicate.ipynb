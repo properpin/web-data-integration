{
 "cells": [
  {
   "cell_type": "code",
   "execution_count": 1,
   "id": "9f011702",
   "metadata": {},
   "outputs": [],
   "source": [
    "import pandas as pd\n",
    "sevMil = pd.read_csv(\"companies_sorted-1.csv\")\n",
    "ft = pd.read_csv(\"Forbes_top 2000_2022.csv\")\n",
    "db = pd.read_csv(\"mapping/dbpedia/data/dbpedia_preprocessed_final.csv\")"
   ]
  },
  {
   "cell_type": "code",
   "execution_count": 24,
   "id": "92c17b61",
   "metadata": {},
   "outputs": [
    {
     "data": {
      "text/plain": [
       "count           37\n",
       "unique          18\n",
       "top       autonomo\n",
       "freq             3\n",
       "Name: name, dtype: object"
      ]
     },
     "execution_count": 24,
     "metadata": {},
     "output_type": "execute_result"
    }
   ],
   "source": [
    "sevMil[sevMil[['name']].duplicated(keep=False)]['name'].describe()"
   ]
  },
  {
   "cell_type": "code",
   "execution_count": 26,
   "id": "71ead157",
   "metadata": {},
   "outputs": [
    {
     "data": {
      "text/plain": [
       "count       0\n",
       "unique      0\n",
       "top       NaN\n",
       "freq      NaN\n",
       "Name: organizationName, dtype: object"
      ]
     },
     "execution_count": 26,
     "metadata": {},
     "output_type": "execute_result"
    }
   ],
   "source": [
    "ft[ft[['organizationName']].duplicated(keep=False)]['organizationName'].describe()\n"
   ]
  },
  {
   "cell_type": "code",
   "execution_count": 27,
   "id": "094a20e9",
   "metadata": {},
   "outputs": [
    {
     "data": {
      "text/plain": [
       "count      917\n",
       "unique     400\n",
       "top       KUKA\n",
       "freq        20\n",
       "Name: name, dtype: object"
      ]
     },
     "execution_count": 27,
     "metadata": {},
     "output_type": "execute_result"
    }
   ],
   "source": [
    "db[db[['name']].duplicated(keep=False)]['name'].describe()\n"
   ]
  }
 ],
 "metadata": {
  "kernelspec": {
   "display_name": "Python 3 (ipykernel)",
   "language": "python",
   "name": "python3"
  },
  "language_info": {
   "codemirror_mode": {
    "name": "ipython",
    "version": 3
   },
   "file_extension": ".py",
   "mimetype": "text/x-python",
   "name": "python",
   "nbconvert_exporter": "python",
   "pygments_lexer": "ipython3",
   "version": "3.9.12"
  }
 },
 "nbformat": 4,
 "nbformat_minor": 5
}
