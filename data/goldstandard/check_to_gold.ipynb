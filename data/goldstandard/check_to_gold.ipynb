{
 "cells": [
  {
   "cell_type": "code",
   "execution_count": 9,
   "id": "f86cc588",
   "metadata": {},
   "outputs": [],
   "source": [
    "import pandas as pd\n",
    "gs_ft_sevm = pd.read_csv('ft_sevM_after_check.csv')\n",
    "gs_ft_db = pd.read_csv('ft_db_check.csv')"
   ]
  },
  {
   "cell_type": "code",
   "execution_count": 10,
   "id": "5920656e",
   "metadata": {},
   "outputs": [],
   "source": [
    "gs_ft_sevm[['ft_id','sevM_id','label']].to_csv('gs_ft_sevm.csv', index=False)\n",
    "gs_ft_db[['ft_id','db_id','label']].to_csv('gs_ft_db.csv', index=False) "
   ]
  }
 ],
 "metadata": {
  "kernelspec": {
   "display_name": "Python 3 (ipykernel)",
   "language": "python",
   "name": "python3"
  },
  "language_info": {
   "codemirror_mode": {
    "name": "ipython",
    "version": 3
   },
   "file_extension": ".py",
   "mimetype": "text/x-python",
   "name": "python",
   "nbconvert_exporter": "python",
   "pygments_lexer": "ipython3",
   "version": "3.9.12"
  }
 },
 "nbformat": 4,
 "nbformat_minor": 5
}
