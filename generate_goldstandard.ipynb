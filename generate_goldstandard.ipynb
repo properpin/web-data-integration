{
 "cells": [
  {
   "cell_type": "markdown",
   "metadata": {},
   "source": [
    "### Loading Libraries"
   ]
  },
  {
   "cell_type": "code",
   "execution_count": 1,
   "metadata": {},
   "outputs": [
    {
     "name": "stdout",
     "output_type": "stream",
     "text": [
      "Requirement already satisfied: Levenshtein in /Users/properpin/anaconda3/lib/python3.9/site-packages (0.20.8)\n",
      "Requirement already satisfied: rapidfuzz<3.0.0,>=2.3.0 in /Users/properpin/anaconda3/lib/python3.9/site-packages (from Levenshtein) (2.13.2)\n",
      "Note: you may need to restart the kernel to use updated packages.\n"
     ]
    }
   ],
   "source": [
    "%pip install Levenshtein\n",
    "import numpy as np\n",
    "import pandas as pd\n",
    "import Levenshtein as lev\n",
    "from itertools import product"
   ]
  },
  {
   "cell_type": "markdown",
   "metadata": {},
   "source": [
    "### Loading Data"
   ]
  },
  {
   "cell_type": "code",
   "execution_count": 2,
   "metadata": {},
   "outputs": [],
   "source": [
    "sevMil = pd.read_csv(\"companies_sorted-1.csv\")\n",
    "ft = pd.read_csv(\"Forbes_top 2000_2022.csv\")\n",
    "db = pd.read_csv(\"mapping/dbpedia/data/dbpedia_preprocessed_final.csv\")"
   ]
  },
  {
   "cell_type": "markdown",
   "metadata": {},
   "source": [
    "### Creating ID Column for Each Dataset"
   ]
  },
  {
   "cell_type": "code",
   "execution_count": 3,
   "metadata": {},
   "outputs": [],
   "source": [
    "sevMil = sevMil[['name']]\n",
    "sevMil = sevMil.applymap(lambda s: s.lower() if type(s) == str else s)\n",
    "sevMil['id'] =  range(len(sevMil))\n",
    "sevMil['id'] = \"7.1m_\" + sevMil['id'].astype(str)"
   ]
  },
  {
   "cell_type": "code",
   "execution_count": 4,
   "metadata": {},
   "outputs": [],
   "source": [
    "ft = ft[['organizationName']]\n",
    "ft = ft.applymap(lambda s: s.lower() if type(s) == str else s)\n",
    "ft['id'] =  range(len(ft))\n",
    "ft['id'] = \"ft_id_\" + ft['id'].astype(str)"
   ]
  },
  {
   "cell_type": "code",
   "execution_count": 5,
   "metadata": {},
   "outputs": [],
   "source": [
    "dbpedia = db[['name']]\n",
    "dbpedia = dbpedia.applymap(lambda s: s.lower() if type(s) == str else s)\n",
    "dbpedia['id'] =  range(len(db))\n",
    "dbpedia['id'] = \"dbpedia_\" + dbpedia['id'].astype(str)"
   ]
  },
  {
   "cell_type": "markdown",
   "metadata": {},
   "source": [
    "### Calculating Levenshtein Distance for Gold Standard"
   ]
  },
  {
   "cell_type": "markdown",
   "metadata": {},
   "source": [
    "#### Between FT and DBPedia Datasets"
   ]
  },
  {
   "cell_type": "code",
   "execution_count": null,
   "metadata": {},
   "outputs": [],
   "source": [
    "# Calculate the distance (ratio)\n",
    "ft_db_lev = pd.DataFrame(product(ft['organizationName'], dbpedia['name']), columns=[\"ft\",\"dbpedia\"])\n",
    "# Since there are duplicate name, plan to deal with it in Java\n",
    "ft_db_lev = ft_db_lev.drop_duplicates()\n",
    "ft_db_lev[\"LevScore\"] = ft_db_lev.apply(lambda x: lev.ratio(x[0],x[1]), axis=1)\n",
    "\n",
    "# Filter similiar pairs \n",
    "ft_db_lev_filtered = ft_db_lev[ft_db_lev['LevScore'] > 0.8]\n",
    "ft_db_lev_false = ft_db_lev[ft_db_lev['LevScore'] < 0.3]\n",
    "\n",
    "# Identify matching and similiar-but-unmatching pairs \n",
    "confirmed_true_ftdb = ft_db_lev_filtered[ft_db_lev_filtered['LevScore'] == 1]\n",
    "edge_cases_ftdb = ft_db_lev_filtered[ft_db_lev_filtered['LevScore'] != 1]\n",
    "false_cases_ftdb = ft_db_lev_false\n",
    "\n",
    "# Sample 100 for matching cases, 150 for corner cases, 250 for non-matching cases\n",
    "true_sample = confirmed_true_ftdb.sample(100, random_state=1)\n",
    "edge_sample = edge_cases_ftdb.sample(150, random_state=1)\n",
    "false_sample = false_cases_ftdb.sample(250, random_state=1)\n",
    "\n",
    "# Goldstandard output\n",
    "gold_standard_ft_db = pd.concat([true_sample, edge_sample, false_sample])\n",
    "gold_standard_ft_db = gold_standard_ft_db.merge(ft, how='left', left_on='ft', right_on='organizationName')\n",
    "gold_standard_ft_db.rename(columns={'id':'ft_id'}, inplace = True)\n",
    "gold_standard_ft_db = gold_standard_ft_db.merge(dbpedia, how = 'left', left_on = 'dbpedia', right_on = 'name')\n",
    "gold_standard_ft_db.rename(columns={'id':'db_id'}, inplace = True)\n",
    "gold_standard_ft_db = gold_standard_ft_db[['ft_id', 'db_id', 'LevScore', 'ft', 'dbpedia']]\n",
    "gold_standard_ft_db['label'] = gold_standard_ft_db.apply(lambda x: True if x['LevScore'] == 1 else False, axis = 1)\n",
    "gold_standard_ft_db = gold_standard_ft_db.drop_duplicates(subset=['ft', 'dbpedia'], keep='first')\n",
    "gold_standard_ft_db"
   ]
  },
  {
   "cell_type": "code",
   "execution_count": null,
   "metadata": {},
   "outputs": [],
   "source": [
    "gold_standard_ft_db.describe(include = 'all')"
   ]
  },
  {
   "cell_type": "markdown",
   "metadata": {},
   "source": [
    "#### Between FT and 7Mil datasets"
   ]
  },
  {
   "cell_type": "code",
   "execution_count": null,
   "metadata": {},
   "outputs": [],
   "source": [
    "# Calculate the distance (ratio)\n",
    "ft_sevM_lev = pd.DataFrame(product(ft['organizationName'], sevMil['name']), columns=[\"ft\",\"sevMil\"])\n",
    "# Since there are duplicate name, plan to deal with it in Java\n",
    "ft_sevM_lev = ft_sevM_lev.drop_duplicates()\n",
    "ft_sevM_lev[\"LevScore\"] = ft_sevM_lev.apply(lambda x: lev.ratio(x[0],x[1]), axis=1)\n",
    "\n",
    "# Filter similiar pairs \n",
    "ft_sevM_lev_filtered = ft_sevM_lev[ft_sevM_lev['LevScore'] > 0.8]\n",
    "ft_sevM_lev_false = ft_sevM_lev[ft_sevM_lev['LevScore'] < 0.3]\n",
    "\n",
    "# Identify matching and similiar-but-unmatching pairs\n",
    "confirmed_true_ftsevM = ft_sevM_lev_filtered[ft_sevM_lev_filtered['LevScore'] == 1]\n",
    "edge_cases_ftsevM = ft_sevM_lev_filtered[ft_sevM_lev_filtered['LevScore'] != 1]\n",
    "false_cases_ftsevM = ft_sevM_lev_false\n",
    "\n",
    "# Sample 100 for matching cases, 150 for corner cases, 250 for non-matching cases\n",
    "true_sample = confirmed_true_ftsevM.sample(100, random_state=1)\n",
    "edge_sample = edge_cases_ftsevM.sample(150, random_state=1)\n",
    "false_sample = false_cases_ftsevM.sample(250, random_state=1)\n",
    "\n",
    "# Goldstandard output\n",
    "gold_standard_ftsevM = pd.concat([true_sample, edge_sample, false_sample])\n",
    "gold_standard_ftsevM = gold_standard_ftsevM.merge(ft, how='left', left_on='ft', right_on='organizationName')\n",
    "gold_standard_ftsevM.rename(columns={'id':'ft_id'}, inplace = True)\n",
    "gold_standard_ftsevM = gold_standard_ftsevM.merge(sevMil, how = 'left', left_on = 'sevMil', right_on = 'name')\n",
    "gold_standard_ftsevM.rename(columns={'id':'sevM_id'}, inplace = True)\n",
    "gold_standard_ftsevM = gold_standard_ftsevM[['ft_id', 'sevM_id', 'LevScore', 'ft', 'sevMil']]\n",
    "gold_standard_ftsevM['label'] = gold_standard_ftsevM.apply(lambda x: True if x['LevScore'] == 1 else False, axis = 1)\n",
    "gold_standard_ftsevM = gold_standard_ftsevM.drop_duplicates(subset=['ft', 'sevMil'], keep='first')\n",
    "gold_standard_ftsevM"
   ]
  },
  {
   "cell_type": "code",
   "execution_count": null,
   "metadata": {},
   "outputs": [],
   "source": [
    "gold_standard_ftsevM.describe(include = 'all')"
   ]
  },
  {
   "cell_type": "markdown",
   "metadata": {},
   "source": [
    "Printing data for manually check"
   ]
  },
  {
   "cell_type": "code",
   "execution_count": null,
   "metadata": {},
   "outputs": [],
   "source": [
    "gold_standard_ft_db.sort_values('LevScore', ascending = False).to_csv('ft_db_check.csv', index=False)\n",
    "gold_standard_ftsevM.sort_values('LevScore', ascending = False).to_csv('ft_sevM_check.csv', index=False)"
   ]
  },
  {
   "cell_type": "markdown",
   "metadata": {},
   "source": [
    "Printing Output"
   ]
  },
  {
   "cell_type": "markdown",
   "metadata": {},
   "source": [
    "#### Between db and 7Mil datasets"
   ]
  },
  {
   "cell_type": "code",
   "execution_count": 8,
   "metadata": {},
   "outputs": [
    {
     "data": {
      "text/html": [
       "<div>\n",
       "<style scoped>\n",
       "    .dataframe tbody tr th:only-of-type {\n",
       "        vertical-align: middle;\n",
       "    }\n",
       "\n",
       "    .dataframe tbody tr th {\n",
       "        vertical-align: top;\n",
       "    }\n",
       "\n",
       "    .dataframe thead th {\n",
       "        text-align: right;\n",
       "    }\n",
       "</style>\n",
       "<table border=\"1\" class=\"dataframe\">\n",
       "  <thead>\n",
       "    <tr style=\"text-align: right;\">\n",
       "      <th></th>\n",
       "      <th>db_id</th>\n",
       "      <th>sevM_id</th>\n",
       "      <th>LevScore</th>\n",
       "      <th>db</th>\n",
       "      <th>sevMil</th>\n",
       "      <th>label</th>\n",
       "    </tr>\n",
       "  </thead>\n",
       "  <tbody>\n",
       "    <tr>\n",
       "      <th>0</th>\n",
       "      <td>dbpedia_1017</td>\n",
       "      <td>7.1m_151</td>\n",
       "      <td>1.000000</td>\n",
       "      <td>the coca-cola company</td>\n",
       "      <td>the coca-cola company</td>\n",
       "      <td>True</td>\n",
       "    </tr>\n",
       "    <tr>\n",
       "      <th>1</th>\n",
       "      <td>dbpedia_2240</td>\n",
       "      <td>7.1m_1732</td>\n",
       "      <td>1.000000</td>\n",
       "      <td>celestica</td>\n",
       "      <td>celestica</td>\n",
       "      <td>True</td>\n",
       "    </tr>\n",
       "    <tr>\n",
       "      <th>2</th>\n",
       "      <td>dbpedia_4796</td>\n",
       "      <td>7.1m_1507</td>\n",
       "      <td>1.000000</td>\n",
       "      <td>american electric power</td>\n",
       "      <td>american electric power</td>\n",
       "      <td>True</td>\n",
       "    </tr>\n",
       "    <tr>\n",
       "      <th>3</th>\n",
       "      <td>dbpedia_3646</td>\n",
       "      <td>7.1m_1257</td>\n",
       "      <td>1.000000</td>\n",
       "      <td>family dollar</td>\n",
       "      <td>family dollar</td>\n",
       "      <td>True</td>\n",
       "    </tr>\n",
       "    <tr>\n",
       "      <th>4</th>\n",
       "      <td>dbpedia_3281</td>\n",
       "      <td>7.1m_1736</td>\n",
       "      <td>1.000000</td>\n",
       "      <td>safran aircraft engines</td>\n",
       "      <td>safran aircraft engines</td>\n",
       "      <td>True</td>\n",
       "    </tr>\n",
       "    <tr>\n",
       "      <th>...</th>\n",
       "      <td>...</td>\n",
       "      <td>...</td>\n",
       "      <td>...</td>\n",
       "      <td>...</td>\n",
       "      <td>...</td>\n",
       "      <td>...</td>\n",
       "    </tr>\n",
       "    <tr>\n",
       "      <th>558</th>\n",
       "      <td>dbpedia_1410</td>\n",
       "      <td>7.1m_1541</td>\n",
       "      <td>0.216216</td>\n",
       "      <td>abu dhabi national oil company</td>\n",
       "      <td>chili's</td>\n",
       "      <td>False</td>\n",
       "    </tr>\n",
       "    <tr>\n",
       "      <th>559</th>\n",
       "      <td>dbpedia_6758</td>\n",
       "      <td>7.1m_1377</td>\n",
       "      <td>0.256410</td>\n",
       "      <td>tide (transportation company)</td>\n",
       "      <td>lego group</td>\n",
       "      <td>False</td>\n",
       "    </tr>\n",
       "    <tr>\n",
       "      <th>560</th>\n",
       "      <td>dbpedia_5584</td>\n",
       "      <td>7.1m_1620</td>\n",
       "      <td>0.133333</td>\n",
       "      <td>o boticário</td>\n",
       "      <td>sars</td>\n",
       "      <td>False</td>\n",
       "    </tr>\n",
       "    <tr>\n",
       "      <th>561</th>\n",
       "      <td>dbpedia_751</td>\n",
       "      <td>7.1m_455</td>\n",
       "      <td>0.100000</td>\n",
       "      <td>siderperu</td>\n",
       "      <td>tata motors</td>\n",
       "      <td>False</td>\n",
       "    </tr>\n",
       "    <tr>\n",
       "      <th>562</th>\n",
       "      <td>dbpedia_4521</td>\n",
       "      <td>7.1m_1293</td>\n",
       "      <td>0.250000</td>\n",
       "      <td>safran</td>\n",
       "      <td>ef education first</td>\n",
       "      <td>False</td>\n",
       "    </tr>\n",
       "  </tbody>\n",
       "</table>\n",
       "<p>500 rows × 6 columns</p>\n",
       "</div>"
      ],
      "text/plain": [
       "            db_id    sevM_id  LevScore                              db  \\\n",
       "0    dbpedia_1017   7.1m_151  1.000000           the coca-cola company   \n",
       "1    dbpedia_2240  7.1m_1732  1.000000                       celestica   \n",
       "2    dbpedia_4796  7.1m_1507  1.000000         american electric power   \n",
       "3    dbpedia_3646  7.1m_1257  1.000000                   family dollar   \n",
       "4    dbpedia_3281  7.1m_1736  1.000000         safran aircraft engines   \n",
       "..            ...        ...       ...                             ...   \n",
       "558  dbpedia_1410  7.1m_1541  0.216216  abu dhabi national oil company   \n",
       "559  dbpedia_6758  7.1m_1377  0.256410   tide (transportation company)   \n",
       "560  dbpedia_5584  7.1m_1620  0.133333                     o boticário   \n",
       "561   dbpedia_751   7.1m_455  0.100000                       siderperu   \n",
       "562  dbpedia_4521  7.1m_1293  0.250000                          safran   \n",
       "\n",
       "                      sevMil  label  \n",
       "0      the coca-cola company   True  \n",
       "1                  celestica   True  \n",
       "2    american electric power   True  \n",
       "3              family dollar   True  \n",
       "4    safran aircraft engines   True  \n",
       "..                       ...    ...  \n",
       "558                  chili's  False  \n",
       "559               lego group  False  \n",
       "560                     sars  False  \n",
       "561              tata motors  False  \n",
       "562       ef education first  False  \n",
       "\n",
       "[500 rows x 6 columns]"
      ]
     },
     "execution_count": 8,
     "metadata": {},
     "output_type": "execute_result"
    }
   ],
   "source": [
    "# Calculate the distance (ratio)\n",
    "db_sevm_lev = pd.DataFrame(product(dbpedia['name'], sevMil['name']), columns=[\"db\",\"sevMil\"])\n",
    "# Since there are duplicate name, plan to deal with it in Java\n",
    "db_sevm_lev = db_sevm_lev.drop_duplicates()\n",
    "db_sevm_lev[\"LevScore\"] = db_sevm_lev.apply(lambda x: lev.ratio(x[0],x[1]), axis=1)\n",
    "\n",
    "# Filter similiar pairs \n",
    "db_sevm_lev_filtered = db_sevm_lev[db_sevm_lev['LevScore'] > 0.8]\n",
    "db_sevm_lev_false = db_sevm_lev[db_sevm_lev['LevScore'] < 0.3]\n",
    "\n",
    "# Identify matching and similiar-but-unmatching pairs \n",
    "confirmed_true_dbsevm = db_sevm_lev_filtered[db_sevm_lev_filtered['LevScore'] == 1]\n",
    "edge_cases_dbsevm = db_sevm_lev_filtered[db_sevm_lev_filtered['LevScore'] != 1]\n",
    "false_cases_dbsevm = db_sevm_lev_false\n",
    "\n",
    "# Sample 100 for matching cases, 150 for corner cases, 250 for non-matching cases\n",
    "true_sample = confirmed_true_dbsevm.sample(100, random_state=1)\n",
    "edge_sample = edge_cases_dbsevm.sample(150, random_state=1)\n",
    "false_sample = false_cases_dbsevm.sample(250, random_state=1)\n",
    "\n",
    "# Goldstandard output\n",
    "gold_standard_dbsevm = pd.concat([true_sample, edge_sample, false_sample])\n",
    "gold_standard_dbsevm = gold_standard_dbsevm.merge(dbpedia, how='left', left_on='db', right_on='name')\n",
    "gold_standard_dbsevm.rename(columns={'id':'db_id'}, inplace = True)\n",
    "gold_standard_dbsevm = gold_standard_dbsevm.merge(sevMil, how = 'left', left_on = 'sevMil', right_on = 'name')\n",
    "gold_standard_dbsevm.rename(columns={'id':'sevM_id'}, inplace = True)\n",
    "gold_standard_dbsevm = gold_standard_dbsevm[['db_id', 'sevM_id', 'LevScore', 'db', 'sevMil']]\n",
    "gold_standard_dbsevm['label'] = gold_standard_dbsevm.apply(lambda x: True if x['LevScore'] == 1 else False, axis = 1)\n",
    "gold_standard_dbsevm = gold_standard_dbsevm.drop_duplicates(subset=['db', 'sevMil'], keep='first')\n",
    "gold_standard_dbsevm"
   ]
  },
  {
   "cell_type": "code",
   "execution_count": 10,
   "metadata": {},
   "outputs": [
    {
     "data": {
      "text/html": [
       "<div>\n",
       "<style scoped>\n",
       "    .dataframe tbody tr th:only-of-type {\n",
       "        vertical-align: middle;\n",
       "    }\n",
       "\n",
       "    .dataframe tbody tr th {\n",
       "        vertical-align: top;\n",
       "    }\n",
       "\n",
       "    .dataframe thead th {\n",
       "        text-align: right;\n",
       "    }\n",
       "</style>\n",
       "<table border=\"1\" class=\"dataframe\">\n",
       "  <thead>\n",
       "    <tr style=\"text-align: right;\">\n",
       "      <th></th>\n",
       "      <th>db_id</th>\n",
       "      <th>sevM_id</th>\n",
       "      <th>LevScore</th>\n",
       "      <th>db</th>\n",
       "      <th>sevMil</th>\n",
       "      <th>label</th>\n",
       "    </tr>\n",
       "  </thead>\n",
       "  <tbody>\n",
       "    <tr>\n",
       "      <th>count</th>\n",
       "      <td>500</td>\n",
       "      <td>500</td>\n",
       "      <td>500.000000</td>\n",
       "      <td>500</td>\n",
       "      <td>500</td>\n",
       "      <td>500</td>\n",
       "    </tr>\n",
       "    <tr>\n",
       "      <th>unique</th>\n",
       "      <td>465</td>\n",
       "      <td>383</td>\n",
       "      <td>NaN</td>\n",
       "      <td>465</td>\n",
       "      <td>383</td>\n",
       "      <td>2</td>\n",
       "    </tr>\n",
       "    <tr>\n",
       "      <th>top</th>\n",
       "      <td>dbpedia_6049</td>\n",
       "      <td>7.1m_1699</td>\n",
       "      <td>NaN</td>\n",
       "      <td>lsc communications</td>\n",
       "      <td>sabre corporation</td>\n",
       "      <td>False</td>\n",
       "    </tr>\n",
       "    <tr>\n",
       "      <th>freq</th>\n",
       "      <td>3</td>\n",
       "      <td>9</td>\n",
       "      <td>NaN</td>\n",
       "      <td>3</td>\n",
       "      <td>9</td>\n",
       "      <td>400</td>\n",
       "    </tr>\n",
       "    <tr>\n",
       "      <th>mean</th>\n",
       "      <td>NaN</td>\n",
       "      <td>NaN</td>\n",
       "      <td>0.550459</td>\n",
       "      <td>NaN</td>\n",
       "      <td>NaN</td>\n",
       "      <td>NaN</td>\n",
       "    </tr>\n",
       "    <tr>\n",
       "      <th>std</th>\n",
       "      <td>NaN</td>\n",
       "      <td>NaN</td>\n",
       "      <td>0.360218</td>\n",
       "      <td>NaN</td>\n",
       "      <td>NaN</td>\n",
       "      <td>NaN</td>\n",
       "    </tr>\n",
       "    <tr>\n",
       "      <th>min</th>\n",
       "      <td>NaN</td>\n",
       "      <td>NaN</td>\n",
       "      <td>0.000000</td>\n",
       "      <td>NaN</td>\n",
       "      <td>NaN</td>\n",
       "      <td>NaN</td>\n",
       "    </tr>\n",
       "    <tr>\n",
       "      <th>25%</th>\n",
       "      <td>NaN</td>\n",
       "      <td>NaN</td>\n",
       "      <td>0.213346</td>\n",
       "      <td>NaN</td>\n",
       "      <td>NaN</td>\n",
       "      <td>NaN</td>\n",
       "    </tr>\n",
       "    <tr>\n",
       "      <th>50%</th>\n",
       "      <td>NaN</td>\n",
       "      <td>NaN</td>\n",
       "      <td>0.552403</td>\n",
       "      <td>NaN</td>\n",
       "      <td>NaN</td>\n",
       "      <td>NaN</td>\n",
       "    </tr>\n",
       "    <tr>\n",
       "      <th>75%</th>\n",
       "      <td>NaN</td>\n",
       "      <td>NaN</td>\n",
       "      <td>0.858766</td>\n",
       "      <td>NaN</td>\n",
       "      <td>NaN</td>\n",
       "      <td>NaN</td>\n",
       "    </tr>\n",
       "    <tr>\n",
       "      <th>max</th>\n",
       "      <td>NaN</td>\n",
       "      <td>NaN</td>\n",
       "      <td>1.000000</td>\n",
       "      <td>NaN</td>\n",
       "      <td>NaN</td>\n",
       "      <td>NaN</td>\n",
       "    </tr>\n",
       "  </tbody>\n",
       "</table>\n",
       "</div>"
      ],
      "text/plain": [
       "               db_id    sevM_id    LevScore                  db  \\\n",
       "count            500        500  500.000000                 500   \n",
       "unique           465        383         NaN                 465   \n",
       "top     dbpedia_6049  7.1m_1699         NaN  lsc communications   \n",
       "freq               3          9         NaN                   3   \n",
       "mean             NaN        NaN    0.550459                 NaN   \n",
       "std              NaN        NaN    0.360218                 NaN   \n",
       "min              NaN        NaN    0.000000                 NaN   \n",
       "25%              NaN        NaN    0.213346                 NaN   \n",
       "50%              NaN        NaN    0.552403                 NaN   \n",
       "75%              NaN        NaN    0.858766                 NaN   \n",
       "max              NaN        NaN    1.000000                 NaN   \n",
       "\n",
       "                   sevMil  label  \n",
       "count                 500    500  \n",
       "unique                383      2  \n",
       "top     sabre corporation  False  \n",
       "freq                    9    400  \n",
       "mean                  NaN    NaN  \n",
       "std                   NaN    NaN  \n",
       "min                   NaN    NaN  \n",
       "25%                   NaN    NaN  \n",
       "50%                   NaN    NaN  \n",
       "75%                   NaN    NaN  \n",
       "max                   NaN    NaN  "
      ]
     },
     "execution_count": 10,
     "metadata": {},
     "output_type": "execute_result"
    }
   ],
   "source": [
    "gold_standard_dbsevm.describe(include = 'all')"
   ]
  },
  {
   "cell_type": "code",
   "execution_count": 11,
   "metadata": {},
   "outputs": [],
   "source": [
    "gold_standard_dbsevm.sort_values('LevScore', ascending = False).to_csv('db_sevM_check.csv', index=False)"
   ]
  },
  {
   "cell_type": "code",
   "execution_count": null,
   "metadata": {},
   "outputs": [],
   "source": [
    "gold_standard_ftsevM.drop(['LevScore','ft','sevMil'], axis=1, inplace=True) \n",
    "gold_standard_ft_db.drop(['LevScore','ft','dbpedia'], axis=1, inplace=True)"
   ]
  },
  {
   "cell_type": "code",
   "execution_count": null,
   "metadata": {},
   "outputs": [],
   "source": [
    "gold_standard_ft_db.to_csv('data/goldstandard/GS_ft_db.csv', index=False) \n",
    "gold_standard_ftsevM.to_csv('data/goldstandard/GS_ft_sevM.csv', index=False)"
   ]
  }
 ],
 "metadata": {
  "kernelspec": {
   "display_name": "Python 3 (ipykernel)",
   "language": "python",
   "name": "python3"
  },
  "language_info": {
   "codemirror_mode": {
    "name": "ipython",
    "version": 3
   },
   "file_extension": ".py",
   "mimetype": "text/x-python",
   "name": "python",
   "nbconvert_exporter": "python",
   "pygments_lexer": "ipython3",
   "version": "3.9.12"
  },
  "vscode": {
   "interpreter": {
    "hash": "7a8c7b99fc38c84b40332d619e45373528884b6b397c9abda2810c7d4e9a3611"
   }
  }
 },
 "nbformat": 4,
 "nbformat_minor": 2
}
